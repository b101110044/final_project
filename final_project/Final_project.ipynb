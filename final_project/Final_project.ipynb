{
  "cells": [
    {
      "cell_type": "code",
      "execution_count": 207,
      "id": "b506cfa5",
      "metadata": {
        "id": "b506cfa5"
      },
      "outputs": [],
      "source": [
        "import numpy as np\n",
        "import pandas as pd\n",
        "import matplotlib.pyplot as plt\n",
        "import seaborn as sns\n",
        "from sklearn import linear_model\n",
        "from sklearn.model_selection import train_test_split\n",
        "from sklearn.linear_model import LinearRegression\n",
        "from sklearn.linear_model import LogisticRegression\n",
        "from sklearn.tree import DecisionTreeClassifier\n",
        "from sklearn.neighbors import KNeighborsClassifier\n",
        "from sklearn.svm import SVC\n",
        "from sklearn.ensemble import RandomForestClassifier, ExtraTreesClassifier\n",
        "from sklearn import metrics\n",
        "from sklearn.model_selection import cross_val_score\n",
        "from sklearn.feature_selection import SelectKBest\n",
        "from sklearn.feature_selection import chi2\n",
        "from sklearn.ensemble import ExtraTreesClassifier, BaggingClassifier\n",
        "from sklearn.metrics import accuracy_score, confusion_matrix\n",
        "import statsmodels.api as sm\n",
        "import missingno as mno"
      ]
    },
    {
      "cell_type": "markdown",
      "id": "QxGjVqBYnsFY",
      "metadata": {
        "id": "QxGjVqBYnsFY"
      },
      "source": [
        "# Load the data"
      ]
    },
    {
      "cell_type": "code",
      "execution_count": 208,
      "id": "a890b938",
      "metadata": {
        "id": "a890b938"
      },
      "outputs": [],
      "source": [
        "data = pd.read_excel('dataset.xlsx')"
      ]
    },
    {
      "cell_type": "markdown",
      "id": "NnC1cpMfnwZd",
      "metadata": {
        "id": "NnC1cpMfnwZd"
      },
      "source": [
        "# Data Preprocessing and Cleaning"
      ]
    },
    {
      "cell_type": "markdown",
      "id": "f11b94d7",
      "metadata": {},
      "source": [
        "## Rename columns"
      ]
    },
    {
      "cell_type": "code",
      "execution_count": 209,
      "id": "a940c6b0",
      "metadata": {
        "id": "a940c6b0"
      },
      "outputs": [],
      "source": [
        "data = data.rename(columns = {'sex(man=1,woman=0)':'sex',\n",
        "                              'neck circumference（cm）':'neck', \n",
        "                              'waist circumference（cm）':'waist', \n",
        "                              'maximum interincisal distance（cm）':'mid',\n",
        "                              'Mallampati test':'Mt', \n",
        "                              'ratio of Height to thyro-sternum distance':'rhtd', \n",
        "                              'ESS questionnaire':'ESS',\n",
        "                              'STOP-Bang questionnaire':'SB',\n",
        "                              'no or mild OSA: moderate-severe OSA(0:1)':'result'})"
      ]
    },
    {
      "cell_type": "code",
      "execution_count": 210,
      "id": "efbe4cf8",
      "metadata": {
        "colab": {
          "base_uri": "https://localhost:8080/"
        },
        "id": "efbe4cf8",
        "outputId": "2825a4ee-bbfb-444a-82db-261893eeb31d"
      },
      "outputs": [
        {
          "data": {
            "text/plain": [
              "sex      0\n",
              "age      0\n",
              "neck     0\n",
              "waist    0\n",
              "BMI      0\n",
              "mid      2\n",
              "Mt       0\n",
              "rhtd     0\n",
              "ESS      0\n",
              "SB       0\n",
              "dtype: int64"
            ]
          },
          "execution_count": 210,
          "metadata": {},
          "output_type": "execute_result"
        }
      ],
      "source": [
        "data[['sex', 'age', 'neck', 'waist', 'BMI', 'mid', 'Mt', 'rhtd', 'ESS', 'SB']].isnull().sum()"
      ]
    },
    {
      "cell_type": "code",
      "execution_count": 211,
      "id": "27c8a77e",
      "metadata": {},
      "outputs": [
        {
          "data": {
            "text/plain": [
              "<AxesSubplot:>"
            ]
          },
          "execution_count": 211,
          "metadata": {},
          "output_type": "execute_result"
        },
        {
          "data": {
            "image/png": "[encoded data removed]",
            "text/plain": [
              "<Figure size 216x360 with 2 Axes>"
            ]
          },
          "metadata": {
            "needs_background": "light"
          },
          "output_type": "display_data"
        }
      ],
      "source": [
        "missing_columns = ['mid']\n",
        "\n",
        "def random_imputation(df, feature):\n",
        "    \n",
        "    number_missing = df[feature].isnull().sum()\n",
        "    observed_values = df.loc[df[feature].notnull(), feature]\n",
        "    df.loc[df[feature].isnull(), feature + '_imp'] = np.random.choice(observed_values, number_missing, replace=True)\n",
        "    \n",
        "    return df\n",
        "for feature in missing_columns:\n",
        "    data[feature + \"_imp\"] = data[feature]\n",
        "    data = random_imputation(data, feature)\n",
        "    \n",
        "deter_data = pd.DataFrame(columns=[\"Det\" + name for name in missing_columns])\n",
        "\n",
        "for feature in missing_columns:\n",
        "    \n",
        "    deter_data[\"Det\" + feature] = data[feature + \"_imp\"]\n",
        "    parameters = list(set(data.columns) - set(missing_columns) - {feature + '_imp'})\n",
        "    \n",
        "    #Create a Linear Regression model to estimate the missing data\n",
        "    lr = linear_model.LinearRegression()\n",
        "    lr.fit(X = data[parameters], y= data[feature + \"_imp\"])\n",
        "    \n",
        "    #Preserve the index of the missing data from the original dataframe\n",
        "    deter_data.loc[data[feature].isnull(), \"Det\" + feature] = lr.predict(data[parameters])[data[feature].isnull()]\n",
        "\n",
        "mno.matrix(deter_data, figsize=(3, 5))"
      ]
    },
    {
      "cell_type": "code",
      "execution_count": 212,
      "id": "c8ad6048",
      "metadata": {},
      "outputs": [
        {
          "data": {
            "text/html": [
              "<div>\n",
              "<style scoped>\n",
              "    .dataframe tbody tr th:only-of-type {\n",
              "        vertical-align: middle;\n",
              "    }\n",
              "\n",
              "    .dataframe tbody tr th {\n",
              "        vertical-align: top;\n",
              "    }\n",
              "\n",
              "    .dataframe thead th {\n",
              "        text-align: right;\n",
              "    }\n",
              "</style>\n",
              "<table border=\"1\" class=\"dataframe\">\n",
              "  <thead>\n",
              "    <tr style=\"text-align: right;\">\n",
              "      <th></th>\n",
              "      <th>sex</th>\n",
              "      <th>age</th>\n",
              "      <th>neck</th>\n",
              "      <th>waist</th>\n",
              "      <th>BMI</th>\n",
              "      <th>Mt</th>\n",
              "      <th>rhtd</th>\n",
              "      <th>ESS</th>\n",
              "      <th>SB</th>\n",
              "      <th>result</th>\n",
              "      <th>Detmid</th>\n",
              "    </tr>\n",
              "  </thead>\n",
              "  <tbody>\n",
              "    <tr>\n",
              "      <th>0</th>\n",
              "      <td>1</td>\n",
              "      <td>37</td>\n",
              "      <td>38.0</td>\n",
              "      <td>83.0</td>\n",
              "      <td>22.491349</td>\n",
              "      <td>1</td>\n",
              "      <td>15.454545</td>\n",
              "      <td>0</td>\n",
              "      <td>2</td>\n",
              "      <td>0</td>\n",
              "      <td>6.0</td>\n",
              "    </tr>\n",
              "    <tr>\n",
              "      <th>1</th>\n",
              "      <td>1</td>\n",
              "      <td>31</td>\n",
              "      <td>40.0</td>\n",
              "      <td>89.0</td>\n",
              "      <td>22.093170</td>\n",
              "      <td>3</td>\n",
              "      <td>19.777778</td>\n",
              "      <td>4</td>\n",
              "      <td>3</td>\n",
              "      <td>0</td>\n",
              "      <td>5.0</td>\n",
              "    </tr>\n",
              "    <tr>\n",
              "      <th>2</th>\n",
              "      <td>1</td>\n",
              "      <td>43</td>\n",
              "      <td>37.0</td>\n",
              "      <td>86.0</td>\n",
              "      <td>22.491349</td>\n",
              "      <td>1</td>\n",
              "      <td>18.888889</td>\n",
              "      <td>3</td>\n",
              "      <td>3</td>\n",
              "      <td>0</td>\n",
              "      <td>6.0</td>\n",
              "    </tr>\n",
              "    <tr>\n",
              "      <th>3</th>\n",
              "      <td>1</td>\n",
              "      <td>30</td>\n",
              "      <td>37.0</td>\n",
              "      <td>89.0</td>\n",
              "      <td>23.255019</td>\n",
              "      <td>1</td>\n",
              "      <td>15.545455</td>\n",
              "      <td>3</td>\n",
              "      <td>2</td>\n",
              "      <td>0</td>\n",
              "      <td>6.0</td>\n",
              "    </tr>\n",
              "    <tr>\n",
              "      <th>4</th>\n",
              "      <td>1</td>\n",
              "      <td>53</td>\n",
              "      <td>39.0</td>\n",
              "      <td>99.0</td>\n",
              "      <td>27.335640</td>\n",
              "      <td>1</td>\n",
              "      <td>18.888889</td>\n",
              "      <td>13</td>\n",
              "      <td>5</td>\n",
              "      <td>0</td>\n",
              "      <td>5.0</td>\n",
              "    </tr>\n",
              "    <tr>\n",
              "      <th>...</th>\n",
              "      <td>...</td>\n",
              "      <td>...</td>\n",
              "      <td>...</td>\n",
              "      <td>...</td>\n",
              "      <td>...</td>\n",
              "      <td>...</td>\n",
              "      <td>...</td>\n",
              "      <td>...</td>\n",
              "      <td>...</td>\n",
              "      <td>...</td>\n",
              "      <td>...</td>\n",
              "    </tr>\n",
              "    <tr>\n",
              "      <th>476</th>\n",
              "      <td>0</td>\n",
              "      <td>69</td>\n",
              "      <td>32.0</td>\n",
              "      <td>86.0</td>\n",
              "      <td>21.258503</td>\n",
              "      <td>2</td>\n",
              "      <td>18.666667</td>\n",
              "      <td>9</td>\n",
              "      <td>5</td>\n",
              "      <td>0</td>\n",
              "      <td>4.0</td>\n",
              "    </tr>\n",
              "    <tr>\n",
              "      <th>477</th>\n",
              "      <td>0</td>\n",
              "      <td>62</td>\n",
              "      <td>34.5</td>\n",
              "      <td>85.0</td>\n",
              "      <td>24.464602</td>\n",
              "      <td>2</td>\n",
              "      <td>18.111111</td>\n",
              "      <td>5</td>\n",
              "      <td>2</td>\n",
              "      <td>1</td>\n",
              "      <td>5.0</td>\n",
              "    </tr>\n",
              "    <tr>\n",
              "      <th>478</th>\n",
              "      <td>0</td>\n",
              "      <td>61</td>\n",
              "      <td>34.0</td>\n",
              "      <td>76.0</td>\n",
              "      <td>24.609375</td>\n",
              "      <td>1</td>\n",
              "      <td>20.000000</td>\n",
              "      <td>0</td>\n",
              "      <td>2</td>\n",
              "      <td>1</td>\n",
              "      <td>5.5</td>\n",
              "    </tr>\n",
              "    <tr>\n",
              "      <th>479</th>\n",
              "      <td>0</td>\n",
              "      <td>63</td>\n",
              "      <td>36.0</td>\n",
              "      <td>83.0</td>\n",
              "      <td>19.467401</td>\n",
              "      <td>1</td>\n",
              "      <td>18.333333</td>\n",
              "      <td>0</td>\n",
              "      <td>1</td>\n",
              "      <td>1</td>\n",
              "      <td>6.0</td>\n",
              "    </tr>\n",
              "    <tr>\n",
              "      <th>480</th>\n",
              "      <td>0</td>\n",
              "      <td>37</td>\n",
              "      <td>33.0</td>\n",
              "      <td>76.0</td>\n",
              "      <td>21.612812</td>\n",
              "      <td>1</td>\n",
              "      <td>18.666667</td>\n",
              "      <td>5</td>\n",
              "      <td>3</td>\n",
              "      <td>1</td>\n",
              "      <td>5.0</td>\n",
              "    </tr>\n",
              "  </tbody>\n",
              "</table>\n",
              "<p>481 rows × 11 columns</p>\n",
              "</div>"
            ],
            "text/plain": [
              "     sex  age  neck  waist        BMI  Mt       rhtd  ESS  SB  result  Detmid\n",
              "0      1   37  38.0   83.0  22.491349   1  15.454545    0   2       0     6.0\n",
              "1      1   31  40.0   89.0  22.093170   3  19.777778    4   3       0     5.0\n",
              "2      1   43  37.0   86.0  22.491349   1  18.888889    3   3       0     6.0\n",
              "3      1   30  37.0   89.0  23.255019   1  15.545455    3   2       0     6.0\n",
              "4      1   53  39.0   99.0  27.335640   1  18.888889   13   5       0     5.0\n",
              "..   ...  ...   ...    ...        ...  ..        ...  ...  ..     ...     ...\n",
              "476    0   69  32.0   86.0  21.258503   2  18.666667    9   5       0     4.0\n",
              "477    0   62  34.5   85.0  24.464602   2  18.111111    5   2       1     5.0\n",
              "478    0   61  34.0   76.0  24.609375   1  20.000000    0   2       1     5.5\n",
              "479    0   63  36.0   83.0  19.467401   1  18.333333    0   1       1     6.0\n",
              "480    0   37  33.0   76.0  21.612812   1  18.666667    5   3       1     5.0\n",
              "\n",
              "[481 rows x 11 columns]"
            ]
          },
          "execution_count": 212,
          "metadata": {},
          "output_type": "execute_result"
        }
      ],
      "source": [
        "data= pd.concat([data[['sex', 'age', 'neck', 'waist', 'BMI', 'Mt', 'rhtd', 'ESS', 'SB', 'result']], deter_data[['Detmid']]], axis = 1)\n",
        "data"
      ]
    },
    {
      "cell_type": "markdown",
      "id": "sK81Iv_gpEoe",
      "metadata": {
        "id": "sK81Iv_gpEoe"
      },
      "source": [
        "# Modelling"
      ]
    },
    {
      "cell_type": "markdown",
      "id": "06f569e7",
      "metadata": {},
      "source": [
        "## RandomForestClassifier"
      ]
    },
    {
      "cell_type": "code",
      "execution_count": 213,
      "id": "ac32c1f2",
      "metadata": {
        "id": "ac32c1f2"
      },
      "outputs": [
        {
          "data": {
            "text/plain": [
              "Text(0.5, 257.44, 'Predicted label')"
            ]
          },
          "execution_count": 213,
          "metadata": {},
          "output_type": "execute_result"
        },
        {
          "data": {
            "image/png": "[encoded data removed]",
            "text/plain": [
              "<Figure size 432x288 with 2 Axes>"
            ]
          },
          "metadata": {
            "needs_background": "light"
          },
          "output_type": "display_data"
        }
      ],
      "source": [
        "X = data[['sex', 'Mt', 'Detmid', 'age', 'neck', 'waist', 'BMI', 'rhtd', 'ESS', 'SB']]\n",
        "y = data['result']\n",
        "X_trn, X_tst, y_trn, y_tst = train_test_split(X, y, test_size=0.2, random_state=42)\n",
        "model1 = RandomForestClassifier()\n",
        "model1.fit(X_trn, y_trn)\n",
        "y_pred1 = model1.predict(X_tst)\n",
        "matrix1 = confusion_matrix(y_tst,y_pred1)\n",
        "class_names=[0,1]\n",
        "fig, ax = plt.subplots()\n",
        "tick_marks = np.arange(len(class_names))\n",
        "plt.xticks(tick_marks, class_names)\n",
        "plt.yticks(tick_marks, class_names)\n",
        "sns.heatmap(pd.DataFrame(matrix1), annot=True, cmap=\"YlGnBu\" ,fmt='g')\n",
        "ax.xaxis.set_label_position(\"top\")\n",
        "plt.tight_layout()\n",
        "plt.title('Confusion matrix', y=1.1)\n",
        "plt.ylabel('Actual label')\n",
        "plt.xlabel('Predicted label')"
      ]
    },
    {
      "cell_type": "code",
      "execution_count": 214,
      "id": "8aaab933",
      "metadata": {
        "colab": {
          "base_uri": "https://localhost:8080/"
        },
        "id": "8aaab933",
        "outputId": "a149b9df-1d85-493d-a280-c36f3cf40e14"
      },
      "outputs": [
        {
          "name": "stdout",
          "output_type": "stream",
          "text": [
            "Macro-average: 0.8350515463917526\n",
            "Micro-average: 0.8162878787878788\n",
            "              precision    recall  f1-score   support\n",
            "\n",
            "           0       0.76      0.76      0.76        33\n",
            "           1       0.88      0.88      0.88        64\n",
            "\n",
            "    accuracy                           0.84        97\n",
            "   macro avg       0.82      0.82      0.82        97\n",
            "weighted avg       0.84      0.84      0.84        97\n",
            "\n",
            "[[25  8]\n",
            " [ 8 56]]\n"
          ]
        }
      ],
      "source": [
        "Mic_RandomForest = metrics.f1_score(y_tst, y_pred1, average ='micro')\n",
        "Mac_RandomForest = metrics.f1_score(y_tst, y_pred1, average ='macro')\n",
        "print(\"Macro-average: {0}\".format(Mic_RandomForest))\n",
        "print(\"Micro-average: {0}\".format(Mac_RandomForest))\n",
        "print(metrics.classification_report(y_tst, y_pred1))\n",
        "print(metrics.confusion_matrix(y_tst, y_pred1))"
      ]
    },
    {
      "cell_type": "markdown",
      "id": "06f569e7",
      "metadata": {},
      "source": [
        "## ExtraTreesClassifier"
      ]
    },
    {
      "cell_type": "code",
      "execution_count": 215,
      "id": "ac32c1f2",
      "metadata": {
        "id": "ac32c1f2"
      },
      "outputs": [
        {
          "data": {
            "text/plain": [
              "Text(0.5, 257.44, 'Predicted label')"
            ]
          },
          "execution_count": 215,
          "metadata": {},
          "output_type": "execute_result"
        },
        {
          "data": {
            "image/png": "[encoded data removed]",
            "text/plain": [
              "<Figure size 432x288 with 2 Axes>"
            ]
          },
          "metadata": {
            "needs_background": "light"
          },
          "output_type": "display_data"
        }
      ],
      "source": [
        "model2 = ExtraTreesClassifier()\n",
        "model2.fit(X_trn, y_trn)\n",
        "y_pred2 = model2.predict(X_tst)\n",
        "matrix2 = confusion_matrix(y_tst,y_pred2)\n",
        "confusion_matrix(y_tst, y_pred2)\n",
        "class_names=[0,1]\n",
        "fig, ax = plt.subplots()\n",
        "tick_marks = np.arange(len(class_names))\n",
        "plt.xticks(tick_marks, class_names)\n",
        "plt.yticks(tick_marks, class_names)\n",
        "sns.heatmap(pd.DataFrame(matrix2), annot=True, cmap=\"YlGnBu\" ,fmt='g')\n",
        "ax.xaxis.set_label_position(\"top\")\n",
        "plt.tight_layout()\n",
        "plt.title('Confusion matrix', y=1.1)\n",
        "plt.ylabel('Actual label')\n",
        "plt.xlabel('Predicted label')"
      ]
    },
    {
      "cell_type": "code",
      "execution_count": 216,
      "id": "8aaab933",
      "metadata": {
        "colab": {
          "base_uri": "https://localhost:8080/"
        },
        "id": "8aaab933",
        "outputId": "a149b9df-1d85-493d-a280-c36f3cf40e14"
      },
      "outputs": [
        {
          "name": "stdout",
          "output_type": "stream",
          "text": [
            "Macro-average: 0.796218487394958\n",
            "Micro-average: 0.8144329896907216\n",
            "              precision    recall  f1-score   support\n",
            "\n",
            "           0       0.71      0.76      0.74        33\n",
            "           1       0.87      0.84      0.86        64\n",
            "\n",
            "    accuracy                           0.81        97\n",
            "   macro avg       0.79      0.80      0.80        97\n",
            "weighted avg       0.82      0.81      0.82        97\n",
            "\n",
            "[[25  8]\n",
            " [10 54]]\n"
          ]
        }
      ],
      "source": [
        "Mac_ExtraTrees = metrics.f1_score(y_tst, y_pred2, average ='macro')\n",
        "Mic_ExtraTrees = metrics.f1_score(y_tst, y_pred2, average ='micro')\n",
        "print(\"Macro-average: {0}\".format(Mac_ExtraTrees))\n",
        "print(\"Micro-average: {0}\".format(Mic_ExtraTrees))\n",
        "print(metrics.classification_report(y_tst, y_pred2))\n",
        "print(metrics.confusion_matrix(y_tst, y_pred2))"
      ]
    },
    {
      "cell_type": "markdown",
      "id": "06f569e7",
      "metadata": {},
      "source": [
        "## BaggingClassifier"
      ]
    },
    {
      "cell_type": "code",
      "execution_count": 217,
      "id": "ac32c1f2",
      "metadata": {
        "id": "ac32c1f2"
      },
      "outputs": [
        {
          "data": {
            "text/plain": [
              "Text(0.5, 257.44, 'Predicted label')"
            ]
          },
          "execution_count": 217,
          "metadata": {},
          "output_type": "execute_result"
        },
        {
          "data": {
            "image/png": "[encoded data removed]",
            "text/plain": [
              "<Figure size 432x288 with 2 Axes>"
            ]
          },
          "metadata": {
            "needs_background": "light"
          },
          "output_type": "display_data"
        }
      ],
      "source": [
        "model3 = BaggingClassifier(RandomForestClassifier(), n_estimators=10)\n",
        "model3.fit(X_trn, y_trn)\n",
        "y_pred3 = model3.predict(X_tst)\n",
        "matrix3 = confusion_matrix(y_tst,y_pred3)\n",
        "class_names=[0,1]\n",
        "fig, ax = plt.subplots()\n",
        "tick_marks = np.arange(len(class_names))\n",
        "plt.xticks(tick_marks, class_names)\n",
        "plt.yticks(tick_marks, class_names)\n",
        "sns.heatmap(pd.DataFrame(matrix3), annot=True, cmap=\"YlGnBu\" ,fmt='g')\n",
        "ax.xaxis.set_label_position(\"top\")\n",
        "plt.tight_layout()\n",
        "plt.title('Confusion matrix', y=1.1)\n",
        "plt.ylabel('Actual label')\n",
        "plt.xlabel('Predicted label')"
      ]
    },
    {
      "cell_type": "code",
      "execution_count": 218,
      "id": "8aaab933",
      "metadata": {
        "colab": {
          "base_uri": "https://localhost:8080/"
        },
        "id": "8aaab933",
        "outputId": "a149b9df-1d85-493d-a280-c36f3cf40e14"
      },
      "outputs": [
        {
          "name": "stdout",
          "output_type": "stream",
          "text": [
            "Macro-average: 0.7531806615776082\n",
            "Micro-average: 0.7835051546391752\n",
            "              precision    recall  f1-score   support\n",
            "\n",
            "           0       0.70      0.64      0.67        33\n",
            "           1       0.82      0.86      0.84        64\n",
            "\n",
            "    accuracy                           0.78        97\n",
            "   macro avg       0.76      0.75      0.75        97\n",
            "weighted avg       0.78      0.78      0.78        97\n",
            "\n",
            "[[21 12]\n",
            " [ 9 55]]\n"
          ]
        }
      ],
      "source": [
        "Mac_Bagging = metrics.f1_score(y_tst, y_pred3, average ='macro')\n",
        "Mic_Bagging = metrics.f1_score(y_tst, y_pred3, average ='micro')\n",
        "print(\"Macro-average: {0}\".format(Mac_Bagging))\n",
        "print(\"Micro-average: {0}\".format(Mic_Bagging))\n",
        "print(metrics.classification_report(y_tst, y_pred3))\n",
        "print(metrics.confusion_matrix(y_tst, y_pred3))"
      ]
    },
    {
      "cell_type": "markdown",
      "id": "0e4e9d41",
      "metadata": {},
      "source": [
        "## KNeighborsClassifier"
      ]
    },
    {
      "cell_type": "code",
      "execution_count": 219,
      "id": "333009d4",
      "metadata": {},
      "outputs": [
        {
          "data": {
            "text/plain": [
              "Text(0.5, 257.44, 'Predicted label')"
            ]
          },
          "execution_count": 219,
          "metadata": {},
          "output_type": "execute_result"
        },
        {
          "data": {
            "image/png": "[encoded data removed]",
            "text/plain": [
              "<Figure size 432x288 with 2 Axes>"
            ]
          },
          "metadata": {
            "needs_background": "light"
          },
          "output_type": "display_data"
        }
      ],
      "source": [
        "model6 = KNeighborsClassifier()\n",
        "model6.fit(X_trn, y_trn)\n",
        "y_pred6 = model6.predict(X_tst)\n",
        "matrix6 = confusion_matrix(y_tst,y_pred6)\n",
        "class_names=[0,1]\n",
        "fig, ax = plt.subplots()\n",
        "tick_marks = np.arange(len(class_names))\n",
        "plt.xticks(tick_marks, class_names)\n",
        "plt.yticks(tick_marks, class_names)\n",
        "sns.heatmap(pd.DataFrame(matrix6), annot=True, cmap=\"YlGnBu\" ,fmt='g')\n",
        "ax.xaxis.set_label_position(\"top\")\n",
        "plt.tight_layout()\n",
        "plt.title('Confusion matrix', y=1.1)\n",
        "plt.ylabel('Actual label')\n",
        "plt.xlabel('Predicted label')"
      ]
    },
    {
      "cell_type": "code",
      "execution_count": 220,
      "id": "72d2e86d",
      "metadata": {},
      "outputs": [
        {
          "name": "stdout",
          "output_type": "stream",
          "text": [
            "Macro-average: 0.6876565295169946\n",
            "Micro-average: 0.7216494845360826\n",
            "              precision    recall  f1-score   support\n",
            "\n",
            "           0       0.59      0.58      0.58        33\n",
            "           1       0.78      0.80      0.79        64\n",
            "\n",
            "    accuracy                           0.72        97\n",
            "   macro avg       0.69      0.69      0.69        97\n",
            "weighted avg       0.72      0.72      0.72        97\n",
            "\n",
            "[[19 14]\n",
            " [13 51]]\n"
          ]
        }
      ],
      "source": [
        "print(\"Macro-average: {0}\".format(metrics.f1_score(y_tst, y_pred6, average ='macro')))\n",
        "print(\"Micro-average: {0}\".format(metrics.f1_score(y_tst, y_pred6, average ='micro')))\n",
        "print(metrics.classification_report(y_tst, y_pred6))\n",
        "print(metrics.confusion_matrix(y_tst, y_pred6))"
      ]
    },
    {
      "cell_type": "markdown",
      "id": "d7c57a3f",
      "metadata": {},
      "source": [
        "# Feature Selection"
      ]
    },
    {
      "cell_type": "code",
      "execution_count": 221,
      "id": "a4ec467e",
      "metadata": {},
      "outputs": [],
      "source": [
        "X = data[['sex', 'age', 'neck', 'waist', 'BMI', 'Detmid', 'Mt', 'rhtd', 'ESS', 'SB']]\n",
        "y = data['result']"
      ]
    },
    {
      "cell_type": "markdown",
      "id": "2416cd00",
      "metadata": {},
      "source": [
        "### Univariate"
      ]
    },
    {
      "cell_type": "code",
      "execution_count": 222,
      "id": "4b087ea3",
      "metadata": {},
      "outputs": [
        {
          "name": "stdout",
          "output_type": "stream",
          "text": [
            "  Features      Score\n",
            "1      age  59.504241\n",
            "3    waist  53.964149\n",
            "7     rhtd  28.450988\n",
            "9       SB  16.389726\n",
            "8      ESS  13.923471\n",
            "2     neck  13.594773\n",
            "4      BMI  11.748331\n",
            "0      sex   6.823036\n",
            "6       Mt   1.705740\n",
            "5   Detmid   0.801133\n"
          ]
        }
      ],
      "source": [
        "#Select the best features\n",
        "bestfeatures = SelectKBest(score_func=chi2, k='all')\n",
        "fit = bestfeatures.fit(X ,y)\n",
        "dfscore = pd.DataFrame(fit.scores_)\n",
        "dfcolumns = pd.DataFrame(X.columns)\n",
        "#concat two dataframes for better visualization\n",
        "featureScores = pd.concat([dfcolumns,dfscore], axis=1)\n",
        "featureScores.columns = ['Features', 'Score'] #naming the dataframe columns\n",
        "print(featureScores.nlargest(10, 'Score')) #print 5 best features"
      ]
    },
    {
      "cell_type": "markdown",
      "id": "f16560cd",
      "metadata": {},
      "source": [
        "### Feature importance"
      ]
    },
    {
      "cell_type": "code",
      "execution_count": 223,
      "id": "fcc5b808",
      "metadata": {},
      "outputs": [
        {
          "name": "stdout",
          "output_type": "stream",
          "text": [
            "[0.04760174 0.10379061 0.10025844 0.12578406 0.10486818 0.08398473\n",
            " 0.06416254 0.16220749 0.11304442 0.0942978 ]\n"
          ]
        },
        {
          "data": {
            "image/png": "[encoded data removed]",
            "text/plain": [
              "<Figure size 432x288 with 1 Axes>"
            ]
          },
          "metadata": {
            "needs_background": "light"
          },
          "output_type": "display_data"
        }
      ],
      "source": [
        "md = ExtraTreesClassifier()\n",
        "md.fit(X,y)\n",
        "print(md.feature_importances_)\n",
        "feat_importances = pd.Series(md.feature_importances_, index=X.columns)\n",
        "feat_importances.nlargest(10).plot(kind ='barh')\n",
        "plt.show()"
      ]
    },
    {
      "cell_type": "code",
      "execution_count": 224,
      "id": "e910498b",
      "metadata": {},
      "outputs": [
        {
          "name": "stdout",
          "output_type": "stream",
          "text": [
            "[0.03055154 0.12472209 0.10064836 0.14021379 0.12565273 0.05944263\n",
            " 0.0306953  0.21658498 0.10549439 0.06599417]\n"
          ]
        },
        {
          "data": {
            "image/png": "[encoded data removed]",
            "text/plain": [
              "<Figure size 432x288 with 1 Axes>"
            ]
          },
          "metadata": {
            "needs_background": "light"
          },
          "output_type": "display_data"
        }
      ],
      "source": [
        "rf_model = RandomForestClassifier()\n",
        "rf_model.fit(X, y)\n",
        "print(rf_model.feature_importances_)\n",
        "feat_importances = pd.Series(rf_model.feature_importances_, index = X.columns)\n",
        "feat_importances.nlargest(10).plot(kind = 'barh')\n",
        "plt.show()"
      ]
    },
    {
      "cell_type": "markdown",
      "id": "e623ea27",
      "metadata": {},
      "source": [
        "### Correlation Matrix with Heatmap"
      ]
    },
    {
      "cell_type": "code",
      "execution_count": 225,
      "id": "b94be9ab",
      "metadata": {},
      "outputs": [
        {
          "data": {
            "image/png": "[encoded data removed]",
            "text/plain": [
              "<Figure size 720x720 with 2 Axes>"
            ]
          },
          "metadata": {
            "needs_background": "light"
          },
          "output_type": "display_data"
        }
      ],
      "source": [
        "corrmat = data.corr()\n",
        "top_corr_features = corrmat.index\n",
        "plt.figure(figsize=(10, 10))\n",
        "# Plot heat map\n",
        "g = sns.heatmap(data[top_corr_features].corr(), annot=True, cmap=\"RdYlGn\")"
      ]
    },
    {
      "cell_type": "markdown",
      "id": "e623ea27",
      "metadata": {},
      "source": [
        "### Import"
      ]
    },
    {
      "cell_type": "code",
      "execution_count": 226,
      "id": "aaef2e02",
      "metadata": {},
      "outputs": [
        {
          "data": {
            "text/plain": [
              "Text(0.5, 257.44, 'Predicted label')"
            ]
          },
          "execution_count": 226,
          "metadata": {},
          "output_type": "execute_result"
        },
        {
          "data": {
            "image/png": "[encoded data removed]",
            "text/plain": [
              "<Figure size 432x288 with 2 Axes>"
            ]
          },
          "metadata": {
            "needs_background": "light"
          },
          "output_type": "display_data"
        }
      ],
      "source": [
        "X1 = data[['sex', 'age', 'neck', 'waist', 'BMI', 'Detmid', 'rhtd', 'ESS', 'SB']]\n",
        "y = data['result']\n",
        "X_trn, X_tst, y_trn, y_tst = train_test_split(X1, y, test_size=0.2, random_state=42)\n",
        "model4 = RandomForestClassifier()\n",
        "model4.fit(X_trn, y_trn)\n",
        "y_pred4 = model4.predict(X_tst)\n",
        "matrix4 = confusion_matrix(y_tst,y_pred4)\n",
        "class_names=[0,1]\n",
        "fig, ax = plt.subplots()\n",
        "tick_marks = np.arange(len(class_names))\n",
        "plt.xticks(tick_marks, class_names)\n",
        "plt.yticks(tick_marks, class_names)\n",
        "sns.heatmap(pd.DataFrame(matrix4), annot=True, cmap=\"YlGnBu\" ,fmt='g')\n",
        "ax.xaxis.set_label_position(\"top\")\n",
        "plt.tight_layout()\n",
        "plt.title('Confusion matrix', y=1.1)\n",
        "plt.ylabel('Actual label')\n",
        "plt.xlabel('Predicted label')"
      ]
    },
    {
      "cell_type": "code",
      "execution_count": 227,
      "id": "2966d21f",
      "metadata": {},
      "outputs": [
        {
          "name": "stdout",
          "output_type": "stream",
          "text": [
            "Macro-average: 0.796218487394958\n",
            "Micro-average: 0.8144329896907216\n",
            "              precision    recall  f1-score   support\n",
            "\n",
            "           0       0.71      0.76      0.74        33\n",
            "           1       0.87      0.84      0.86        64\n",
            "\n",
            "    accuracy                           0.81        97\n",
            "   macro avg       0.79      0.80      0.80        97\n",
            "weighted avg       0.82      0.81      0.82        97\n",
            "\n",
            "[[25  8]\n",
            " [10 54]]\n"
          ]
        }
      ],
      "source": [
        "Mac_Feature_Selection = metrics.f1_score(y_tst, y_pred4, average ='macro')\n",
        "Mic_Feature_Selection = metrics.f1_score(y_tst, y_pred4, average ='micro')\n",
        "print(\"Macro-average: {0}\".format(Mac_Feature_Selection))\n",
        "print(\"Micro-average: {0}\".format(Mic_Feature_Selection))\n",
        "print(metrics.classification_report(y_tst, y_pred4))\n",
        "print(metrics.confusion_matrix(y_tst, y_pred4))"
      ]
    },
    {
      "cell_type": "markdown",
      "id": "cd9b3314",
      "metadata": {},
      "source": [
        "# Tuning"
      ]
    },
    {
      "cell_type": "markdown",
      "id": "19909aad",
      "metadata": {},
      "source": [
        "## RandomForest"
      ]
    },
    {
      "cell_type": "code",
      "execution_count": 228,
      "id": "ac32c1f2",
      "metadata": {
        "id": "ac32c1f2"
      },
      "outputs": [
        {
          "data": {
            "text/plain": [
              "Text(0.5, 257.44, 'Predicted label')"
            ]
          },
          "execution_count": 228,
          "metadata": {},
          "output_type": "execute_result"
        },
        {
          "data": {
            "image/png": "[encoded data removed]",
            "text/plain": [
              "<Figure size 432x288 with 2 Axes>"
            ]
          },
          "metadata": {
            "needs_background": "light"
          },
          "output_type": "display_data"
        }
      ],
      "source": [
        "X = data[['sex', 'Mt', 'Detmid', 'age', 'neck', 'waist', 'BMI', 'rhtd', 'ESS', 'SB']]\n",
        "y = data['result']\n",
        "X_trn, X_tst, y_trn, y_tst = train_test_split(X, y, test_size=0.2, random_state=42)\n",
        "model5 = RandomForestClassifier(n_estimators= 3000)\n",
        "model5.fit(X_trn, y_trn)\n",
        "y_pred5 = model5.predict(X_tst)\n",
        "matrix5 = confusion_matrix(y_tst,y_pred5)\n",
        "class_names=[0,1]\n",
        "fig, ax = plt.subplots()\n",
        "tick_marks = np.arange(len(class_names))\n",
        "plt.xticks(tick_marks, class_names)\n",
        "plt.yticks(tick_marks, class_names)\n",
        "sns.heatmap(pd.DataFrame(matrix5), annot=True, cmap=\"YlGnBu\" ,fmt='g')\n",
        "ax.xaxis.set_label_position(\"top\")\n",
        "plt.tight_layout()\n",
        "plt.title('Confusion matrix', y=1.1)\n",
        "plt.ylabel('Actual label')\n",
        "plt.xlabel('Predicted label')"
      ]
    },
    {
      "cell_type": "code",
      "execution_count": 229,
      "id": "8aaab933",
      "metadata": {
        "colab": {
          "base_uri": "https://localhost:8080/"
        },
        "id": "8aaab933",
        "outputId": "a149b9df-1d85-493d-a280-c36f3cf40e14"
      },
      "outputs": [
        {
          "name": "stdout",
          "output_type": "stream",
          "text": [
            "Macro-average: 0.796218487394958\n",
            "Micro-average: 0.8144329896907216\n",
            "              precision    recall  f1-score   support\n",
            "\n",
            "           0       0.71      0.76      0.74        33\n",
            "           1       0.87      0.84      0.86        64\n",
            "\n",
            "    accuracy                           0.81        97\n",
            "   macro avg       0.79      0.80      0.80        97\n",
            "weighted avg       0.82      0.81      0.82        97\n",
            "\n",
            "[[25  8]\n",
            " [10 54]]\n"
          ]
        }
      ],
      "source": [
        "Mac_Tuning = metrics.f1_score(y_tst, y_pred5, average ='macro')\n",
        "Mic_Tuning = metrics.f1_score(y_tst, y_pred5, average ='micro')\n",
        "print(\"Macro-average: {0}\".format(Mac_Tuning))\n",
        "print(\"Micro-average: {0}\".format(Mic_Tuning))\n",
        "print(metrics.classification_report(y_tst, y_pred5))\n",
        "print(metrics.confusion_matrix(y_tst, y_pred5))"
      ]
    }
  ],
  "metadata": {
    "colab": {
      "name": "Final project_RandomForest.ipynb",
      "provenance": []
    },
    "interpreter": {
      "hash": "b2943380585d3ab4282a0037c10de2f77c3475033d1c2131b82f758ab2610fbf"
    },
    "kernelspec": {
      "display_name": "Python 3.10.2 64-bit",
      "language": "python",
      "name": "python3"
    },
    "language_info": {
      "codemirror_mode": {
        "name": "ipython",
        "version": 3
      },
      "file_extension": ".py",
      "mimetype": "text/x-python",
      "name": "python",
      "nbconvert_exporter": "python",
      "pygments_lexer": "ipython3",
      "version": "3.10.2"
    }
  },
  "nbformat": 4,
  "nbformat_minor": 5
}
