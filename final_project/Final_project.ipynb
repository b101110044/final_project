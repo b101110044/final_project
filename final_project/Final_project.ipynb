{
  "cells": [
    {
      "cell_type": "code",
      "execution_count": 1,
      "id": "b506cfa5",
      "metadata": {
        "id": "b506cfa5"
      },
      "outputs": [],
      "source": [
        "import numpy as np\n",
        "import pandas as pd\n",
        "import matplotlib.pyplot as plt\n",
        "import seaborn as sns\n",
        "from sklearn import linear_model\n",
        "from sklearn.model_selection import train_test_split\n",
        "from sklearn.linear_model import LinearRegression\n",
        "from sklearn.linear_model import LogisticRegression\n",
        "from sklearn.tree import DecisionTreeClassifier\n",
        "from sklearn.neighbors import KNeighborsClassifier\n",
        "from sklearn.svm import SVC\n",
        "from sklearn.ensemble import RandomForestClassifier, ExtraTreesClassifier\n",
        "from sklearn import metrics\n",
        "from sklearn.model_selection import cross_val_score\n",
        "from sklearn.feature_selection import SelectKBest\n",
        "from sklearn.feature_selection import chi2\n",
        "from sklearn.ensemble import ExtraTreesClassifier, BaggingClassifier\n",
        "from sklearn.metrics import accuracy_score, confusion_matrix\n",
        "import statsmodels.api as sm\n",
        "import missingno as mno"
      ]
    },
    {
      "cell_type": "markdown",
      "id": "QxGjVqBYnsFY",
      "metadata": {
        "id": "QxGjVqBYnsFY"
      },
      "source": [
        "# Load the data"
      ]
    },
    {
      "cell_type": "code",
      "execution_count": 2,
      "id": "a890b938",
      "metadata": {
        "id": "a890b938"
      },
      "outputs": [],
      "source": [
        "data = pd.read_excel('dataset.xlsx')"
      ]
    },
    {
      "cell_type": "markdown",
      "id": "NnC1cpMfnwZd",
      "metadata": {
        "id": "NnC1cpMfnwZd"
      },
      "source": [
        "# Data Preprocessing and Cleaning"
      ]
    },
    {
      "cell_type": "code",
      "execution_count": 3,
      "id": "a940c6b0",
      "metadata": {
        "id": "a940c6b0"
      },
      "outputs": [],
      "source": [
        "data = data.rename(columns = {'sex(man=1,woman=0)':'sex', 'neck circumference（cm）':'neck', \n",
        "                       'waist circumference（cm）':'waist', \n",
        "                       'maximum interincisal distance（cm）':'mid', 'Mallampati test':'Mt', \n",
        "                       'ratio of Height to thyro-sternum distance':'rhtd', \n",
        "                       'ESS questionnaire':'ESS', 'STOP-Bang questionnaire':'SB', \n",
        "                       'no or mild OSA: moderate-severe OSA(0:1)':'result'})"
      ]
    },
    {
      "cell_type": "code",
      "execution_count": 4,
      "id": "efbe4cf8",
      "metadata": {
        "colab": {
          "base_uri": "https://localhost:8080/"
        },
        "id": "efbe4cf8",
        "outputId": "2825a4ee-bbfb-444a-82db-261893eeb31d"
      },
      "outputs": [
        {
          "data": {
            "text/plain": [
              "sex      0\n",
              "age      0\n",
              "neck     0\n",
              "waist    0\n",
              "BMI      0\n",
              "mid      2\n",
              "Mt       0\n",
              "rhtd     0\n",
              "dtype: int64"
            ]
          },
          "execution_count": 4,
          "metadata": {},
          "output_type": "execute_result"
        }
      ],
      "source": [
        "#去除NaN\n",
        "data[['sex', 'age', 'neck', 'waist', 'BMI', 'mid', 'Mt', 'rhtd']].isnull().sum()"
      ]
    },
    {
      "cell_type": "code",
      "execution_count": 5,
      "id": "27c8a77e",
      "metadata": {},
      "outputs": [],
      "source": [
        "missing_columns = ['mid']"
      ]
    },
    {
      "cell_type": "code",
      "execution_count": 6,
      "id": "056ae130",
      "metadata": {},
      "outputs": [],
      "source": [
        "def random_imputation(df, feature):\n",
        "    \n",
        "    number_missing = df[feature].isnull().sum()\n",
        "    observed_values = df.loc[df[feature].notnull(), feature]\n",
        "    df.loc[df[feature].isnull(), feature + '_imp'] = np.random.choice(observed_values, number_missing, replace=True)\n",
        "    \n",
        "    return df\n",
        "for feature in missing_columns:\n",
        "    data[feature + \"_imp\"] = data[feature]\n",
        "    data = random_imputation(data, feature)\n",
        "deter_data = pd.DataFrame(columns=[\"Det\" + name for name in missing_columns])\n",
        "\n",
        "for feature in missing_columns:\n",
        "    \n",
        "    deter_data[\"Det\" + feature] = data[feature + \"_imp\"]\n",
        "    parameters = list(set(data.columns) - set(missing_columns) - {feature + '_imp'})\n",
        "    \n",
        "    #Create a Linear Regression model to estimate the missing data\n",
        "    model = linear_model.LinearRegression()\n",
        "    model.fit(X = data[parameters], y= data[feature + \"_imp\"])\n",
        "    \n",
        "    #Preserve the index of the missing data from the original dataframe\n",
        "    deter_data.loc[data[feature].isnull(), \"Det\" + feature] = model.predict(data[parameters])[data[feature].isnull()]"
      ]
    },
    {
      "cell_type": "code",
      "execution_count": 7,
      "id": "43924af1",
      "metadata": {},
      "outputs": [],
      "source": [
        "random_data = pd.DataFrame(columns= [\"Ran\" + name for name in missing_columns])\n",
        "\n",
        "for feature in missing_columns:\n",
        "    \n",
        "    random_data[\"Ran\" + feature] = data[feature + \"_imp\"]\n",
        "    parameters = list(set(data.columns) - set(missing_columns) - {feature + '_imp'})\n",
        "    \n",
        "    model = linear_model.LinearRegression()\n",
        "    model.fit(X = data[parameters], y=data[feature + '_imp'])\n",
        "    \n",
        "    #Standard error for the regression estimates is equal to std() of the errors of each estimate\n",
        "    predict = model.predict(data[parameters])\n",
        "    std_error = (predict[data[feature].notnull()] - data.loc[data[feature].notnull(), feature + '_imp']).std()\n",
        "    \n",
        "    #Preserve the index of the missing data from the original dataframe\n",
        "    random_predict = np.random.normal(size = data[feature].shape[0],\n",
        "                                      loc = predict,\n",
        "                                      scale = std_error)\n",
        "    random_data.loc[(data[feature].isnull()) & (random_predict > 0), \"Ran\" + feature] = random_predict[(data[feature].isnull()) & (random_predict > 0)]"
      ]
    },
    {
      "cell_type": "code",
      "execution_count": 8,
      "id": "4cc86545",
      "metadata": {},
      "outputs": [
        {
          "data": {
            "text/plain": [
              "<AxesSubplot:>"
            ]
          },
          "execution_count": 8,
          "metadata": {},
          "output_type": "execute_result"
        },
        {
          "data": {
            "image/png": "[encoded data removed]",
            "text/plain": [
              "<Figure size 1440x360 with 2 Axes>"
            ]
          },
          "metadata": {
            "needs_background": "light"
          },
          "output_type": "display_data"
        }
      ],
      "source": [
        "mno.matrix(deter_data, figsize=(20, 5))"
      ]
    },
    {
      "cell_type": "code",
      "execution_count": 9,
      "id": "c8ad6048",
      "metadata": {},
      "outputs": [
        {
          "data": {
            "text/html": [
              "<div>\n",
              "<style scoped>\n",
              "    .dataframe tbody tr th:only-of-type {\n",
              "        vertical-align: middle;\n",
              "    }\n",
              "\n",
              "    .dataframe tbody tr th {\n",
              "        vertical-align: top;\n",
              "    }\n",
              "\n",
              "    .dataframe thead th {\n",
              "        text-align: right;\n",
              "    }\n",
              "</style>\n",
              "<table border=\"1\" class=\"dataframe\">\n",
              "  <thead>\n",
              "    <tr style=\"text-align: right;\">\n",
              "      <th></th>\n",
              "      <th>sex</th>\n",
              "      <th>age</th>\n",
              "      <th>neck</th>\n",
              "      <th>waist</th>\n",
              "      <th>BMI</th>\n",
              "      <th>Mt</th>\n",
              "      <th>rhtd</th>\n",
              "      <th>result</th>\n",
              "      <th>Detmid</th>\n",
              "    </tr>\n",
              "  </thead>\n",
              "  <tbody>\n",
              "    <tr>\n",
              "      <th>0</th>\n",
              "      <td>1</td>\n",
              "      <td>37</td>\n",
              "      <td>38.0</td>\n",
              "      <td>83.0</td>\n",
              "      <td>22.491349</td>\n",
              "      <td>1</td>\n",
              "      <td>15.454545</td>\n",
              "      <td>0</td>\n",
              "      <td>6.0</td>\n",
              "    </tr>\n",
              "    <tr>\n",
              "      <th>1</th>\n",
              "      <td>1</td>\n",
              "      <td>31</td>\n",
              "      <td>40.0</td>\n",
              "      <td>89.0</td>\n",
              "      <td>22.093170</td>\n",
              "      <td>3</td>\n",
              "      <td>19.777778</td>\n",
              "      <td>0</td>\n",
              "      <td>5.0</td>\n",
              "    </tr>\n",
              "    <tr>\n",
              "      <th>2</th>\n",
              "      <td>1</td>\n",
              "      <td>43</td>\n",
              "      <td>37.0</td>\n",
              "      <td>86.0</td>\n",
              "      <td>22.491349</td>\n",
              "      <td>1</td>\n",
              "      <td>18.888889</td>\n",
              "      <td>0</td>\n",
              "      <td>6.0</td>\n",
              "    </tr>\n",
              "    <tr>\n",
              "      <th>3</th>\n",
              "      <td>1</td>\n",
              "      <td>30</td>\n",
              "      <td>37.0</td>\n",
              "      <td>89.0</td>\n",
              "      <td>23.255019</td>\n",
              "      <td>1</td>\n",
              "      <td>15.545455</td>\n",
              "      <td>0</td>\n",
              "      <td>6.0</td>\n",
              "    </tr>\n",
              "    <tr>\n",
              "      <th>4</th>\n",
              "      <td>1</td>\n",
              "      <td>53</td>\n",
              "      <td>39.0</td>\n",
              "      <td>99.0</td>\n",
              "      <td>27.335640</td>\n",
              "      <td>1</td>\n",
              "      <td>18.888889</td>\n",
              "      <td>0</td>\n",
              "      <td>5.0</td>\n",
              "    </tr>\n",
              "    <tr>\n",
              "      <th>...</th>\n",
              "      <td>...</td>\n",
              "      <td>...</td>\n",
              "      <td>...</td>\n",
              "      <td>...</td>\n",
              "      <td>...</td>\n",
              "      <td>...</td>\n",
              "      <td>...</td>\n",
              "      <td>...</td>\n",
              "      <td>...</td>\n",
              "    </tr>\n",
              "    <tr>\n",
              "      <th>476</th>\n",
              "      <td>0</td>\n",
              "      <td>69</td>\n",
              "      <td>32.0</td>\n",
              "      <td>86.0</td>\n",
              "      <td>21.258503</td>\n",
              "      <td>2</td>\n",
              "      <td>18.666667</td>\n",
              "      <td>0</td>\n",
              "      <td>4.0</td>\n",
              "    </tr>\n",
              "    <tr>\n",
              "      <th>477</th>\n",
              "      <td>0</td>\n",
              "      <td>62</td>\n",
              "      <td>34.5</td>\n",
              "      <td>85.0</td>\n",
              "      <td>24.464602</td>\n",
              "      <td>2</td>\n",
              "      <td>18.111111</td>\n",
              "      <td>1</td>\n",
              "      <td>5.0</td>\n",
              "    </tr>\n",
              "    <tr>\n",
              "      <th>478</th>\n",
              "      <td>0</td>\n",
              "      <td>61</td>\n",
              "      <td>34.0</td>\n",
              "      <td>76.0</td>\n",
              "      <td>24.609375</td>\n",
              "      <td>1</td>\n",
              "      <td>20.000000</td>\n",
              "      <td>1</td>\n",
              "      <td>5.5</td>\n",
              "    </tr>\n",
              "    <tr>\n",
              "      <th>479</th>\n",
              "      <td>0</td>\n",
              "      <td>63</td>\n",
              "      <td>36.0</td>\n",
              "      <td>83.0</td>\n",
              "      <td>19.467401</td>\n",
              "      <td>1</td>\n",
              "      <td>18.333333</td>\n",
              "      <td>1</td>\n",
              "      <td>6.0</td>\n",
              "    </tr>\n",
              "    <tr>\n",
              "      <th>480</th>\n",
              "      <td>0</td>\n",
              "      <td>37</td>\n",
              "      <td>33.0</td>\n",
              "      <td>76.0</td>\n",
              "      <td>21.612812</td>\n",
              "      <td>1</td>\n",
              "      <td>18.666667</td>\n",
              "      <td>1</td>\n",
              "      <td>5.0</td>\n",
              "    </tr>\n",
              "  </tbody>\n",
              "</table>\n",
              "<p>481 rows × 9 columns</p>\n",
              "</div>"
            ],
            "text/plain": [
              "     sex  age  neck  waist        BMI  Mt       rhtd  result  Detmid\n",
              "0      1   37  38.0   83.0  22.491349   1  15.454545       0     6.0\n",
              "1      1   31  40.0   89.0  22.093170   3  19.777778       0     5.0\n",
              "2      1   43  37.0   86.0  22.491349   1  18.888889       0     6.0\n",
              "3      1   30  37.0   89.0  23.255019   1  15.545455       0     6.0\n",
              "4      1   53  39.0   99.0  27.335640   1  18.888889       0     5.0\n",
              "..   ...  ...   ...    ...        ...  ..        ...     ...     ...\n",
              "476    0   69  32.0   86.0  21.258503   2  18.666667       0     4.0\n",
              "477    0   62  34.5   85.0  24.464602   2  18.111111       1     5.0\n",
              "478    0   61  34.0   76.0  24.609375   1  20.000000       1     5.5\n",
              "479    0   63  36.0   83.0  19.467401   1  18.333333       1     6.0\n",
              "480    0   37  33.0   76.0  21.612812   1  18.666667       1     5.0\n",
              "\n",
              "[481 rows x 9 columns]"
            ]
          },
          "execution_count": 9,
          "metadata": {},
          "output_type": "execute_result"
        }
      ],
      "source": [
        "data= pd.concat([data[['sex', 'age', 'neck', 'waist', 'BMI', 'Mt', 'rhtd', 'result']], deter_data[['Detmid']]], axis = 1)\n",
        "data"
      ]
    },
    {
      "cell_type": "markdown",
      "id": "sK81Iv_gpEoe",
      "metadata": {
        "id": "sK81Iv_gpEoe"
      },
      "source": [
        "# Modelling"
      ]
    },
    {
      "cell_type": "markdown",
      "id": "06f569e7",
      "metadata": {},
      "source": [
        "## RandomForestClassifier"
      ]
    },
    {
      "cell_type": "code",
      "execution_count": 10,
      "id": "ac32c1f2",
      "metadata": {
        "id": "ac32c1f2"
      },
      "outputs": [
        {
          "data": {
            "text/html": [
              "<style>#sk-container-id-1 {color: black;background-color: white;}#sk-container-id-1 pre{padding: 0;}#sk-container-id-1 div.sk-toggleable {background-color: white;}#sk-container-id-1 label.sk-toggleable__label {cursor: pointer;display: block;width: 100%;margin-bottom: 0;padding: 0.3em;box-sizing: border-box;text-align: center;}#sk-container-id-1 label.sk-toggleable__label-arrow:before {content: \"▸\";float: left;margin-right: 0.25em;color: #696969;}#sk-container-id-1 label.sk-toggleable__label-arrow:hover:before {color: black;}#sk-container-id-1 div.sk-estimator:hover label.sk-toggleable__label-arrow:before {color: black;}#sk-container-id-1 div.sk-toggleable__content {max-height: 0;max-width: 0;overflow: hidden;text-align: left;background-color: #f0f8ff;}#sk-container-id-1 div.sk-toggleable__content pre {margin: 0.2em;color: black;border-radius: 0.25em;background-color: #f0f8ff;}#sk-container-id-1 input.sk-toggleable__control:checked~div.sk-toggleable__content {max-height: 200px;max-width: 100%;overflow: auto;}#sk-container-id-1 input.sk-toggleable__control:checked~label.sk-toggleable__label-arrow:before {content: \"▾\";}#sk-container-id-1 div.sk-estimator input.sk-toggleable__control:checked~label.sk-toggleable__label {background-color: #d4ebff;}#sk-container-id-1 div.sk-label input.sk-toggleable__control:checked~label.sk-toggleable__label {background-color: #d4ebff;}#sk-container-id-1 input.sk-hidden--visually {border: 0;clip: rect(1px 1px 1px 1px);clip: rect(1px, 1px, 1px, 1px);height: 1px;margin: -1px;overflow: hidden;padding: 0;position: absolute;width: 1px;}#sk-container-id-1 div.sk-estimator {font-family: monospace;background-color: #f0f8ff;border: 1px dotted black;border-radius: 0.25em;box-sizing: border-box;margin-bottom: 0.5em;}#sk-container-id-1 div.sk-estimator:hover {background-color: #d4ebff;}#sk-container-id-1 div.sk-parallel-item::after {content: \"\";width: 100%;border-bottom: 1px solid gray;flex-grow: 1;}#sk-container-id-1 div.sk-label:hover label.sk-toggleable__label {background-color: #d4ebff;}#sk-container-id-1 div.sk-serial::before {content: \"\";position: absolute;border-left: 1px solid gray;box-sizing: border-box;top: 0;bottom: 0;left: 50%;z-index: 0;}#sk-container-id-1 div.sk-serial {display: flex;flex-direction: column;align-items: center;background-color: white;padding-right: 0.2em;padding-left: 0.2em;position: relative;}#sk-container-id-1 div.sk-item {position: relative;z-index: 1;}#sk-container-id-1 div.sk-parallel {display: flex;align-items: stretch;justify-content: center;background-color: white;position: relative;}#sk-container-id-1 div.sk-item::before, #sk-container-id-1 div.sk-parallel-item::before {content: \"\";position: absolute;border-left: 1px solid gray;box-sizing: border-box;top: 0;bottom: 0;left: 50%;z-index: -1;}#sk-container-id-1 div.sk-parallel-item {display: flex;flex-direction: column;z-index: 1;position: relative;background-color: white;}#sk-container-id-1 div.sk-parallel-item:first-child::after {align-self: flex-end;width: 50%;}#sk-container-id-1 div.sk-parallel-item:last-child::after {align-self: flex-start;width: 50%;}#sk-container-id-1 div.sk-parallel-item:only-child::after {width: 0;}#sk-container-id-1 div.sk-dashed-wrapped {border: 1px dashed gray;margin: 0 0.4em 0.5em 0.4em;box-sizing: border-box;padding-bottom: 0.4em;background-color: white;}#sk-container-id-1 div.sk-label label {font-family: monospace;font-weight: bold;display: inline-block;line-height: 1.2em;}#sk-container-id-1 div.sk-label-container {text-align: center;}#sk-container-id-1 div.sk-container {/* jupyter's `normalize.less` sets `[hidden] { display: none; }` but bootstrap.min.css set `[hidden] { display: none !important; }` so we also need the `!important` here to be able to override the default hidden behavior on the sphinx rendered scikit-learn.org. See: https://github.com/scikit-learn/scikit-learn/issues/21755 */display: inline-block !important;position: relative;}#sk-container-id-1 div.sk-text-repr-fallback {display: none;}</style><div id=\"sk-container-id-1\" class=\"sk-top-container\"><div class=\"sk-text-repr-fallback\"><pre>RandomForestClassifier()</pre><b>In a Jupyter environment, please rerun this cell to show the HTML representation or trust the notebook. <br />On GitHub, the HTML representation is unable to render, please try loading this page with nbviewer.org.</b></div><div class=\"sk-container\" hidden><div class=\"sk-item\"><div class=\"sk-estimator sk-toggleable\"><input class=\"sk-toggleable__control sk-hidden--visually\" id=\"sk-estimator-id-1\" type=\"checkbox\" checked><label for=\"sk-estimator-id-1\" class=\"sk-toggleable__label sk-toggleable__label-arrow\">RandomForestClassifier</label><div class=\"sk-toggleable__content\"><pre>RandomForestClassifier()</pre></div></div></div></div></div>"
            ],
            "text/plain": [
              "RandomForestClassifier()"
            ]
          },
          "execution_count": 10,
          "metadata": {},
          "output_type": "execute_result"
        }
      ],
      "source": [
        "X = data[['sex', 'Mt', 'Detmid', 'age', 'neck', 'waist', 'BMI', 'rhtd']]\n",
        "y = data['result']\n",
        "X_trn, X_tst, y_trn, y_tst = train_test_split(X, y, test_size=0.2, random_state=42)\n",
        "#RandomForestClassifier\n",
        "model1 = RandomForestClassifier()\n",
        "model1.fit(X_trn, y_trn)"
      ]
    },
    {
      "cell_type": "code",
      "execution_count": 11,
      "id": "06cf0f42",
      "metadata": {},
      "outputs": [
        {
          "data": {
            "text/plain": [
              "array([[26,  7],\n",
              "       [ 8, 56]], dtype=int64)"
            ]
          },
          "execution_count": 11,
          "metadata": {},
          "output_type": "execute_result"
        }
      ],
      "source": [
        "y_pred1 = model1.predict(X_tst)\n",
        "matrix1 = confusion_matrix(y_tst,y_pred1)\n",
        "confusion_matrix(y_tst, y_pred1)"
      ]
    },
    {
      "cell_type": "code",
      "execution_count": 12,
      "id": "-3MzmyDlxpz6",
      "metadata": {
        "colab": {
          "base_uri": "https://localhost:8080/",
          "height": 343
        },
        "id": "-3MzmyDlxpz6",
        "outputId": "8529b82b-6166-4e03-a9ea-38e8d5cee250"
      },
      "outputs": [
        {
          "data": {
            "text/plain": [
              "Text(0.5, 257.44, 'Predicted label')"
            ]
          },
          "execution_count": 12,
          "metadata": {},
          "output_type": "execute_result"
        },
        {
          "data": {
            "image/png": "[encoded data removed]",
            "text/plain": [
              "<Figure size 432x288 with 2 Axes>"
            ]
          },
          "metadata": {
            "needs_background": "light"
          },
          "output_type": "display_data"
        }
      ],
      "source": [
        "#混淆矩陣視覺化(Heatmap)\n",
        "%matplotlib inline\n",
        "class_names=[0,1] # name  of classes\n",
        "fig, ax = plt.subplots()\n",
        "tick_marks = np.arange(len(class_names))\n",
        "plt.xticks(tick_marks, class_names)\n",
        "plt.yticks(tick_marks, class_names)\n",
        "# create heatmap\n",
        "sns.heatmap(pd.DataFrame(matrix1), annot=True, cmap=\"YlGnBu\" ,fmt='g')\n",
        "ax.xaxis.set_label_position(\"top\")\n",
        "plt.tight_layout()\n",
        "plt.title('Confusion matrix', y=1.1)\n",
        "plt.ylabel('Actual label')\n",
        "plt.xlabel('Predicted label')"
      ]
    },
    {
      "cell_type": "code",
      "execution_count": 13,
      "id": "8aaab933",
      "metadata": {
        "colab": {
          "base_uri": "https://localhost:8080/"
        },
        "id": "8aaab933",
        "outputId": "a149b9df-1d85-493d-a280-c36f3cf40e14"
      },
      "outputs": [
        {
          "name": "stdout",
          "output_type": "stream",
          "text": [
            "Macro-average: 0.829004583382301\n",
            "Micro-average: 0.845360824742268\n",
            "              precision    recall  f1-score   support\n",
            "\n",
            "           0       0.76      0.79      0.78        33\n",
            "           1       0.89      0.88      0.88        64\n",
            "\n",
            "    accuracy                           0.85        97\n",
            "   macro avg       0.83      0.83      0.83        97\n",
            "weighted avg       0.85      0.85      0.85        97\n",
            "\n",
            "[[26  7]\n",
            " [ 8 56]]\n"
          ]
        }
      ],
      "source": [
        "print(\"Macro-average: {0}\".format(metrics.f1_score(y_tst, y_pred1, average =\n",
        "'macro' )))\n",
        "print(\"Micro-average: {0}\".format(metrics.f1_score(y_tst, y_pred1, average =\n",
        "'micro')))\n",
        "print(metrics.classification_report(y_tst, y_pred1))\n",
        "print(metrics.confusion_matrix(y_tst, y_pred1))"
      ]
    },
    {
      "cell_type": "markdown",
      "id": "06f569e7",
      "metadata": {},
      "source": [
        "## ExtraTreesClassifier"
      ]
    },
    {
      "cell_type": "code",
      "execution_count": 14,
      "id": "ac32c1f2",
      "metadata": {
        "id": "ac32c1f2"
      },
      "outputs": [
        {
          "data": {
            "text/html": [
              "<style>#sk-container-id-2 {color: black;background-color: white;}#sk-container-id-2 pre{padding: 0;}#sk-container-id-2 div.sk-toggleable {background-color: white;}#sk-container-id-2 label.sk-toggleable__label {cursor: pointer;display: block;width: 100%;margin-bottom: 0;padding: 0.3em;box-sizing: border-box;text-align: center;}#sk-container-id-2 label.sk-toggleable__label-arrow:before {content: \"▸\";float: left;margin-right: 0.25em;color: #696969;}#sk-container-id-2 label.sk-toggleable__label-arrow:hover:before {color: black;}#sk-container-id-2 div.sk-estimator:hover label.sk-toggleable__label-arrow:before {color: black;}#sk-container-id-2 div.sk-toggleable__content {max-height: 0;max-width: 0;overflow: hidden;text-align: left;background-color: #f0f8ff;}#sk-container-id-2 div.sk-toggleable__content pre {margin: 0.2em;color: black;border-radius: 0.25em;background-color: #f0f8ff;}#sk-container-id-2 input.sk-toggleable__control:checked~div.sk-toggleable__content {max-height: 200px;max-width: 100%;overflow: auto;}#sk-container-id-2 input.sk-toggleable__control:checked~label.sk-toggleable__label-arrow:before {content: \"▾\";}#sk-container-id-2 div.sk-estimator input.sk-toggleable__control:checked~label.sk-toggleable__label {background-color: #d4ebff;}#sk-container-id-2 div.sk-label input.sk-toggleable__control:checked~label.sk-toggleable__label {background-color: #d4ebff;}#sk-container-id-2 input.sk-hidden--visually {border: 0;clip: rect(1px 1px 1px 1px);clip: rect(1px, 1px, 1px, 1px);height: 1px;margin: -1px;overflow: hidden;padding: 0;position: absolute;width: 1px;}#sk-container-id-2 div.sk-estimator {font-family: monospace;background-color: #f0f8ff;border: 1px dotted black;border-radius: 0.25em;box-sizing: border-box;margin-bottom: 0.5em;}#sk-container-id-2 div.sk-estimator:hover {background-color: #d4ebff;}#sk-container-id-2 div.sk-parallel-item::after {content: \"\";width: 100%;border-bottom: 1px solid gray;flex-grow: 1;}#sk-container-id-2 div.sk-label:hover label.sk-toggleable__label {background-color: #d4ebff;}#sk-container-id-2 div.sk-serial::before {content: \"\";position: absolute;border-left: 1px solid gray;box-sizing: border-box;top: 0;bottom: 0;left: 50%;z-index: 0;}#sk-container-id-2 div.sk-serial {display: flex;flex-direction: column;align-items: center;background-color: white;padding-right: 0.2em;padding-left: 0.2em;position: relative;}#sk-container-id-2 div.sk-item {position: relative;z-index: 1;}#sk-container-id-2 div.sk-parallel {display: flex;align-items: stretch;justify-content: center;background-color: white;position: relative;}#sk-container-id-2 div.sk-item::before, #sk-container-id-2 div.sk-parallel-item::before {content: \"\";position: absolute;border-left: 1px solid gray;box-sizing: border-box;top: 0;bottom: 0;left: 50%;z-index: -1;}#sk-container-id-2 div.sk-parallel-item {display: flex;flex-direction: column;z-index: 1;position: relative;background-color: white;}#sk-container-id-2 div.sk-parallel-item:first-child::after {align-self: flex-end;width: 50%;}#sk-container-id-2 div.sk-parallel-item:last-child::after {align-self: flex-start;width: 50%;}#sk-container-id-2 div.sk-parallel-item:only-child::after {width: 0;}#sk-container-id-2 div.sk-dashed-wrapped {border: 1px dashed gray;margin: 0 0.4em 0.5em 0.4em;box-sizing: border-box;padding-bottom: 0.4em;background-color: white;}#sk-container-id-2 div.sk-label label {font-family: monospace;font-weight: bold;display: inline-block;line-height: 1.2em;}#sk-container-id-2 div.sk-label-container {text-align: center;}#sk-container-id-2 div.sk-container {/* jupyter's `normalize.less` sets `[hidden] { display: none; }` but bootstrap.min.css set `[hidden] { display: none !important; }` so we also need the `!important` here to be able to override the default hidden behavior on the sphinx rendered scikit-learn.org. See: https://github.com/scikit-learn/scikit-learn/issues/21755 */display: inline-block !important;position: relative;}#sk-container-id-2 div.sk-text-repr-fallback {display: none;}</style><div id=\"sk-container-id-2\" class=\"sk-top-container\"><div class=\"sk-text-repr-fallback\"><pre>ExtraTreesClassifier()</pre><b>In a Jupyter environment, please rerun this cell to show the HTML representation or trust the notebook. <br />On GitHub, the HTML representation is unable to render, please try loading this page with nbviewer.org.</b></div><div class=\"sk-container\" hidden><div class=\"sk-item\"><div class=\"sk-estimator sk-toggleable\"><input class=\"sk-toggleable__control sk-hidden--visually\" id=\"sk-estimator-id-2\" type=\"checkbox\" checked><label for=\"sk-estimator-id-2\" class=\"sk-toggleable__label sk-toggleable__label-arrow\">ExtraTreesClassifier</label><div class=\"sk-toggleable__content\"><pre>ExtraTreesClassifier()</pre></div></div></div></div></div>"
            ],
            "text/plain": [
              "ExtraTreesClassifier()"
            ]
          },
          "execution_count": 14,
          "metadata": {},
          "output_type": "execute_result"
        }
      ],
      "source": [
        "model2 = ExtraTreesClassifier()\n",
        "model2.fit(X_trn, y_trn)"
      ]
    },
    {
      "cell_type": "code",
      "execution_count": 15,
      "id": "06cf0f42",
      "metadata": {},
      "outputs": [
        {
          "data": {
            "text/plain": [
              "array([[26,  7],\n",
              "       [ 9, 55]], dtype=int64)"
            ]
          },
          "execution_count": 15,
          "metadata": {},
          "output_type": "execute_result"
        }
      ],
      "source": [
        "y_pred2 = model2.predict(X_tst)\n",
        "matrix2 = confusion_matrix(y_tst,y_pred2)\n",
        "confusion_matrix(y_tst, y_pred2)"
      ]
    },
    {
      "cell_type": "code",
      "execution_count": 16,
      "id": "-3MzmyDlxpz6",
      "metadata": {
        "colab": {
          "base_uri": "https://localhost:8080/",
          "height": 343
        },
        "id": "-3MzmyDlxpz6",
        "outputId": "8529b82b-6166-4e03-a9ea-38e8d5cee250"
      },
      "outputs": [
        {
          "data": {
            "text/plain": [
              "Text(0.5, 257.44, 'Predicted label')"
            ]
          },
          "execution_count": 16,
          "metadata": {},
          "output_type": "execute_result"
        },
        {
          "data": {
            "image/png": "[encoded data removed]",
            "text/plain": [
              "<Figure size 432x288 with 2 Axes>"
            ]
          },
          "metadata": {
            "needs_background": "light"
          },
          "output_type": "display_data"
        }
      ],
      "source": [
        "#混淆矩陣視覺化(Heatmap)\n",
        "%matplotlib inline\n",
        "class_names=[0,1] # name  of classes\n",
        "fig, ax = plt.subplots()\n",
        "tick_marks = np.arange(len(class_names))\n",
        "plt.xticks(tick_marks, class_names)\n",
        "plt.yticks(tick_marks, class_names)\n",
        "# create heatmap\n",
        "sns.heatmap(pd.DataFrame(matrix2), annot=True, cmap=\"YlGnBu\" ,fmt='g')\n",
        "ax.xaxis.set_label_position(\"top\")\n",
        "plt.tight_layout()\n",
        "plt.title('Confusion matrix', y=1.1)\n",
        "plt.ylabel('Actual label')\n",
        "plt.xlabel('Predicted label')"
      ]
    },
    {
      "cell_type": "code",
      "execution_count": 17,
      "id": "8aaab933",
      "metadata": {
        "colab": {
          "base_uri": "https://localhost:8080/"
        },
        "id": "8aaab933",
        "outputId": "a149b9df-1d85-493d-a280-c36f3cf40e14"
      },
      "outputs": [
        {
          "name": "stdout",
          "output_type": "stream",
          "text": [
            "Macro-average: 0.8188608776844071\n",
            "Micro-average: 0.8350515463917526\n",
            "              precision    recall  f1-score   support\n",
            "\n",
            "           0       0.74      0.79      0.76        33\n",
            "           1       0.89      0.86      0.87        64\n",
            "\n",
            "    accuracy                           0.84        97\n",
            "   macro avg       0.81      0.82      0.82        97\n",
            "weighted avg       0.84      0.84      0.84        97\n",
            "\n",
            "[[26  7]\n",
            " [ 9 55]]\n"
          ]
        }
      ],
      "source": [
        "print(\"Macro-average: {0}\".format(metrics.f1_score(y_tst, y_pred2, average =\n",
        "'macro' )))\n",
        "print(\"Micro-average: {0}\".format(metrics.f1_score(y_tst, y_pred2, average =\n",
        "'micro')))\n",
        "print(metrics.classification_report(y_tst, y_pred2))\n",
        "print(metrics.confusion_matrix(y_tst, y_pred2))"
      ]
    },
    {
      "cell_type": "markdown",
      "id": "06f569e7",
      "metadata": {},
      "source": [
        "## BaggingClassifier"
      ]
    },
    {
      "cell_type": "markdown",
      "id": "d7c57a3f",
      "metadata": {},
      "source": [
        "# Feature Selection"
      ]
    },
    {
      "cell_type": "code",
      "execution_count": 18,
      "id": "a4ec467e",
      "metadata": {},
      "outputs": [],
      "source": [
        "X = data[['sex', 'age', 'neck', 'waist', 'BMI', 'Detmid', 'Mt', 'rhtd']]\n",
        "y = data['result']"
      ]
    },
    {
      "cell_type": "markdown",
      "id": "2416cd00",
      "metadata": {},
      "source": [
        "### Univariate"
      ]
    },
    {
      "cell_type": "code",
      "execution_count": 19,
      "id": "4b087ea3",
      "metadata": {},
      "outputs": [
        {
          "name": "stdout",
          "output_type": "stream",
          "text": [
            "  Features      Score\n",
            "1      age  59.504241\n",
            "3    waist  53.964149\n",
            "7     rhtd  28.450988\n",
            "2     neck  13.594773\n",
            "4      BMI  11.748331\n",
            "0      sex   6.823036\n",
            "6       Mt   1.705740\n",
            "5   Detmid   0.800208\n"
          ]
        }
      ],
      "source": [
        "#Select the best features\n",
        "bestfeatures = SelectKBest(score_func=chi2, k='all')\n",
        "fit = bestfeatures.fit(X ,y)\n",
        "dfscore = pd.DataFrame(fit.scores_)\n",
        "dfcolumns = pd.DataFrame(X.columns)\n",
        "#concat two dataframes for better visualization\n",
        "featureScores = pd.concat([dfcolumns,dfscore], axis=1)\n",
        "featureScores.columns = ['Features', 'Score'] #naming the dataframe columns\n",
        "print(featureScores.nlargest(8, 'Score')) #print 5 best features"
      ]
    },
    {
      "cell_type": "markdown",
      "id": "f16560cd",
      "metadata": {},
      "source": [
        "### Feature importance"
      ]
    },
    {
      "cell_type": "code",
      "execution_count": 20,
      "id": "fcc5b808",
      "metadata": {},
      "outputs": [
        {
          "name": "stdout",
          "output_type": "stream",
          "text": [
            "[0.04691032 0.144567   0.13266482 0.15850079 0.1503282  0.10404982\n",
            " 0.06202812 0.20095092]\n"
          ]
        },
        {
          "data": {
            "image/png": "[encoded data removed]",
            "text/plain": [
              "<Figure size 432x288 with 1 Axes>"
            ]
          },
          "metadata": {
            "needs_background": "light"
          },
          "output_type": "display_data"
        }
      ],
      "source": [
        "model = ExtraTreesClassifier()\n",
        "model.fit(X,y)\n",
        "print(model.feature_importances_)\n",
        "feat_importances = pd.Series(model.feature_importances_, index=X.columns)\n",
        "feat_importances.nlargest(8).plot(kind ='barh')\n",
        "plt.show()"
      ]
    },
    {
      "cell_type": "code",
      "execution_count": 21,
      "id": "e910498b",
      "metadata": {},
      "outputs": [
        {
          "name": "stdout",
          "output_type": "stream",
          "text": [
            "[0.03338407 0.14516153 0.12033986 0.16952075 0.16546933 0.07692362\n",
            " 0.04305624 0.24614461]\n"
          ]
        },
        {
          "data": {
            "image/png": "[encoded data removed]",
            "text/plain": [
              "<Figure size 432x288 with 1 Axes>"
            ]
          },
          "metadata": {
            "needs_background": "light"
          },
          "output_type": "display_data"
        }
      ],
      "source": [
        "rf_model = RandomForestClassifier()\n",
        "rf_model.fit(X, y)\n",
        "print(rf_model.feature_importances_)\n",
        "feat_importances = pd.Series(rf_model.feature_importances_, index = X.columns)\n",
        "feat_importances.nlargest(8).plot(kind = 'barh')\n",
        "plt.show()"
      ]
    },
    {
      "cell_type": "markdown",
      "id": "e623ea27",
      "metadata": {},
      "source": [
        "### Correlation Matrix with Heatmap"
      ]
    },
    {
      "cell_type": "code",
      "execution_count": 22,
      "id": "b94be9ab",
      "metadata": {},
      "outputs": [
        {
          "data": {
            "image/png": "[encoded data removed]",
            "text/plain": [
              "<Figure size 720x720 with 2 Axes>"
            ]
          },
          "metadata": {
            "needs_background": "light"
          },
          "output_type": "display_data"
        }
      ],
      "source": [
        "corrmat = data.corr()\n",
        "top_corr_features = corrmat.index\n",
        "plt.figure(figsize=(10, 10))\n",
        "# Plot heat map\n",
        "g = sns.heatmap(data[top_corr_features].corr(), annot=True, cmap=\"RdYlGn\")"
      ]
    },
    {
      "cell_type": "code",
      "execution_count": 23,
      "id": "ac32c1f2",
      "metadata": {
        "id": "ac32c1f2"
      },
      "outputs": [
        {
          "data": {
            "text/html": [
              "<style>#sk-container-id-3 {color: black;background-color: white;}#sk-container-id-3 pre{padding: 0;}#sk-container-id-3 div.sk-toggleable {background-color: white;}#sk-container-id-3 label.sk-toggleable__label {cursor: pointer;display: block;width: 100%;margin-bottom: 0;padding: 0.3em;box-sizing: border-box;text-align: center;}#sk-container-id-3 label.sk-toggleable__label-arrow:before {content: \"▸\";float: left;margin-right: 0.25em;color: #696969;}#sk-container-id-3 label.sk-toggleable__label-arrow:hover:before {color: black;}#sk-container-id-3 div.sk-estimator:hover label.sk-toggleable__label-arrow:before {color: black;}#sk-container-id-3 div.sk-toggleable__content {max-height: 0;max-width: 0;overflow: hidden;text-align: left;background-color: #f0f8ff;}#sk-container-id-3 div.sk-toggleable__content pre {margin: 0.2em;color: black;border-radius: 0.25em;background-color: #f0f8ff;}#sk-container-id-3 input.sk-toggleable__control:checked~div.sk-toggleable__content {max-height: 200px;max-width: 100%;overflow: auto;}#sk-container-id-3 input.sk-toggleable__control:checked~label.sk-toggleable__label-arrow:before {content: \"▾\";}#sk-container-id-3 div.sk-estimator input.sk-toggleable__control:checked~label.sk-toggleable__label {background-color: #d4ebff;}#sk-container-id-3 div.sk-label input.sk-toggleable__control:checked~label.sk-toggleable__label {background-color: #d4ebff;}#sk-container-id-3 input.sk-hidden--visually {border: 0;clip: rect(1px 1px 1px 1px);clip: rect(1px, 1px, 1px, 1px);height: 1px;margin: -1px;overflow: hidden;padding: 0;position: absolute;width: 1px;}#sk-container-id-3 div.sk-estimator {font-family: monospace;background-color: #f0f8ff;border: 1px dotted black;border-radius: 0.25em;box-sizing: border-box;margin-bottom: 0.5em;}#sk-container-id-3 div.sk-estimator:hover {background-color: #d4ebff;}#sk-container-id-3 div.sk-parallel-item::after {content: \"\";width: 100%;border-bottom: 1px solid gray;flex-grow: 1;}#sk-container-id-3 div.sk-label:hover label.sk-toggleable__label {background-color: #d4ebff;}#sk-container-id-3 div.sk-serial::before {content: \"\";position: absolute;border-left: 1px solid gray;box-sizing: border-box;top: 0;bottom: 0;left: 50%;z-index: 0;}#sk-container-id-3 div.sk-serial {display: flex;flex-direction: column;align-items: center;background-color: white;padding-right: 0.2em;padding-left: 0.2em;position: relative;}#sk-container-id-3 div.sk-item {position: relative;z-index: 1;}#sk-container-id-3 div.sk-parallel {display: flex;align-items: stretch;justify-content: center;background-color: white;position: relative;}#sk-container-id-3 div.sk-item::before, #sk-container-id-3 div.sk-parallel-item::before {content: \"\";position: absolute;border-left: 1px solid gray;box-sizing: border-box;top: 0;bottom: 0;left: 50%;z-index: -1;}#sk-container-id-3 div.sk-parallel-item {display: flex;flex-direction: column;z-index: 1;position: relative;background-color: white;}#sk-container-id-3 div.sk-parallel-item:first-child::after {align-self: flex-end;width: 50%;}#sk-container-id-3 div.sk-parallel-item:last-child::after {align-self: flex-start;width: 50%;}#sk-container-id-3 div.sk-parallel-item:only-child::after {width: 0;}#sk-container-id-3 div.sk-dashed-wrapped {border: 1px dashed gray;margin: 0 0.4em 0.5em 0.4em;box-sizing: border-box;padding-bottom: 0.4em;background-color: white;}#sk-container-id-3 div.sk-label label {font-family: monospace;font-weight: bold;display: inline-block;line-height: 1.2em;}#sk-container-id-3 div.sk-label-container {text-align: center;}#sk-container-id-3 div.sk-container {/* jupyter's `normalize.less` sets `[hidden] { display: none; }` but bootstrap.min.css set `[hidden] { display: none !important; }` so we also need the `!important` here to be able to override the default hidden behavior on the sphinx rendered scikit-learn.org. See: https://github.com/scikit-learn/scikit-learn/issues/21755 */display: inline-block !important;position: relative;}#sk-container-id-3 div.sk-text-repr-fallback {display: none;}</style><div id=\"sk-container-id-3\" class=\"sk-top-container\"><div class=\"sk-text-repr-fallback\"><pre>BaggingClassifier(base_estimator=RandomForestClassifier())</pre><b>In a Jupyter environment, please rerun this cell to show the HTML representation or trust the notebook. <br />On GitHub, the HTML representation is unable to render, please try loading this page with nbviewer.org.</b></div><div class=\"sk-container\" hidden><div class=\"sk-item sk-dashed-wrapped\"><div class=\"sk-label-container\"><div class=\"sk-label sk-toggleable\"><input class=\"sk-toggleable__control sk-hidden--visually\" id=\"sk-estimator-id-3\" type=\"checkbox\" ><label for=\"sk-estimator-id-3\" class=\"sk-toggleable__label sk-toggleable__label-arrow\">BaggingClassifier</label><div class=\"sk-toggleable__content\"><pre>BaggingClassifier(base_estimator=RandomForestClassifier())</pre></div></div></div><div class=\"sk-parallel\"><div class=\"sk-parallel-item\"><div class=\"sk-item\"><div class=\"sk-label-container\"><div class=\"sk-label sk-toggleable\"><input class=\"sk-toggleable__control sk-hidden--visually\" id=\"sk-estimator-id-4\" type=\"checkbox\" ><label for=\"sk-estimator-id-4\" class=\"sk-toggleable__label sk-toggleable__label-arrow\">base_estimator: RandomForestClassifier</label><div class=\"sk-toggleable__content\"><pre>RandomForestClassifier()</pre></div></div></div><div class=\"sk-serial\"><div class=\"sk-item\"><div class=\"sk-estimator sk-toggleable\"><input class=\"sk-toggleable__control sk-hidden--visually\" id=\"sk-estimator-id-5\" type=\"checkbox\" ><label for=\"sk-estimator-id-5\" class=\"sk-toggleable__label sk-toggleable__label-arrow\">RandomForestClassifier</label><div class=\"sk-toggleable__content\"><pre>RandomForestClassifier()</pre></div></div></div></div></div></div></div></div></div></div>"
            ],
            "text/plain": [
              "BaggingClassifier(base_estimator=RandomForestClassifier())"
            ]
          },
          "execution_count": 23,
          "metadata": {},
          "output_type": "execute_result"
        }
      ],
      "source": [
        "bagging = BaggingClassifier(RandomForestClassifier(), n_estimators=10)\n",
        "bagging.fit(X_trn, y_trn)"
      ]
    },
    {
      "cell_type": "code",
      "execution_count": 24,
      "id": "06cf0f42",
      "metadata": {},
      "outputs": [
        {
          "data": {
            "text/plain": [
              "array([[26,  7],\n",
              "       [ 9, 55]], dtype=int64)"
            ]
          },
          "execution_count": 24,
          "metadata": {},
          "output_type": "execute_result"
        }
      ],
      "source": [
        "y_pred3 = bagging.predict(X_tst)\n",
        "matrix3 = confusion_matrix(y_tst,y_pred3)\n",
        "confusion_matrix(y_tst, y_pred2)"
      ]
    },
    {
      "cell_type": "code",
      "execution_count": 25,
      "id": "-3MzmyDlxpz6",
      "metadata": {
        "colab": {
          "base_uri": "https://localhost:8080/",
          "height": 343
        },
        "id": "-3MzmyDlxpz6",
        "outputId": "8529b82b-6166-4e03-a9ea-38e8d5cee250"
      },
      "outputs": [
        {
          "data": {
            "text/plain": [
              "Text(0.5, 257.44, 'Predicted label')"
            ]
          },
          "execution_count": 25,
          "metadata": {},
          "output_type": "execute_result"
        },
        {
          "data": {
            "image/png": "[encoded data removed]",
            "text/plain": [
              "<Figure size 432x288 with 2 Axes>"
            ]
          },
          "metadata": {
            "needs_background": "light"
          },
          "output_type": "display_data"
        }
      ],
      "source": [
        "#混淆矩陣視覺化(Heatmap)\n",
        "%matplotlib inline\n",
        "class_names=[0,1] # name  of classes\n",
        "fig, ax = plt.subplots()\n",
        "tick_marks = np.arange(len(class_names))\n",
        "plt.xticks(tick_marks, class_names)\n",
        "plt.yticks(tick_marks, class_names)\n",
        "# create heatmap\n",
        "sns.heatmap(pd.DataFrame(matrix3), annot=True, cmap=\"YlGnBu\" ,fmt='g')\n",
        "ax.xaxis.set_label_position(\"top\")\n",
        "plt.tight_layout()\n",
        "plt.title('Confusion matrix', y=1.1)\n",
        "plt.ylabel('Actual label')\n",
        "plt.xlabel('Predicted label')"
      ]
    },
    {
      "cell_type": "code",
      "execution_count": 26,
      "id": "8aaab933",
      "metadata": {
        "colab": {
          "base_uri": "https://localhost:8080/"
        },
        "id": "8aaab933",
        "outputId": "a149b9df-1d85-493d-a280-c36f3cf40e14"
      },
      "outputs": [
        {
          "name": "stdout",
          "output_type": "stream",
          "text": [
            "Macro-average: 0.8162878787878788\n",
            "Micro-average: 0.8350515463917526\n",
            "              precision    recall  f1-score   support\n",
            "\n",
            "           0       0.76      0.76      0.76        33\n",
            "           1       0.88      0.88      0.88        64\n",
            "\n",
            "    accuracy                           0.84        97\n",
            "   macro avg       0.82      0.82      0.82        97\n",
            "weighted avg       0.84      0.84      0.84        97\n",
            "\n",
            "[[25  8]\n",
            " [ 8 56]]\n"
          ]
        }
      ],
      "source": [
        "print(\"Macro-average: {0}\".format(metrics.f1_score(y_tst, y_pred3, average =\n",
        "'macro' )))\n",
        "print(\"Micro-average: {0}\".format(metrics.f1_score(y_tst, y_pred3, average =\n",
        "'micro')))\n",
        "print(metrics.classification_report(y_tst, y_pred3))\n",
        "print(metrics.confusion_matrix(y_tst, y_pred3))"
      ]
    },
    {
      "cell_type": "markdown",
      "id": "cd9b3314",
      "metadata": {},
      "source": [
        "# Tuning"
      ]
    },
    {
      "cell_type": "code",
      "execution_count": 27,
      "id": "ac32c1f2",
      "metadata": {
        "id": "ac32c1f2"
      },
      "outputs": [
        {
          "data": {
            "text/html": [
              "<style>#sk-container-id-4 {color: black;background-color: white;}#sk-container-id-4 pre{padding: 0;}#sk-container-id-4 div.sk-toggleable {background-color: white;}#sk-container-id-4 label.sk-toggleable__label {cursor: pointer;display: block;width: 100%;margin-bottom: 0;padding: 0.3em;box-sizing: border-box;text-align: center;}#sk-container-id-4 label.sk-toggleable__label-arrow:before {content: \"▸\";float: left;margin-right: 0.25em;color: #696969;}#sk-container-id-4 label.sk-toggleable__label-arrow:hover:before {color: black;}#sk-container-id-4 div.sk-estimator:hover label.sk-toggleable__label-arrow:before {color: black;}#sk-container-id-4 div.sk-toggleable__content {max-height: 0;max-width: 0;overflow: hidden;text-align: left;background-color: #f0f8ff;}#sk-container-id-4 div.sk-toggleable__content pre {margin: 0.2em;color: black;border-radius: 0.25em;background-color: #f0f8ff;}#sk-container-id-4 input.sk-toggleable__control:checked~div.sk-toggleable__content {max-height: 200px;max-width: 100%;overflow: auto;}#sk-container-id-4 input.sk-toggleable__control:checked~label.sk-toggleable__label-arrow:before {content: \"▾\";}#sk-container-id-4 div.sk-estimator input.sk-toggleable__control:checked~label.sk-toggleable__label {background-color: #d4ebff;}#sk-container-id-4 div.sk-label input.sk-toggleable__control:checked~label.sk-toggleable__label {background-color: #d4ebff;}#sk-container-id-4 input.sk-hidden--visually {border: 0;clip: rect(1px 1px 1px 1px);clip: rect(1px, 1px, 1px, 1px);height: 1px;margin: -1px;overflow: hidden;padding: 0;position: absolute;width: 1px;}#sk-container-id-4 div.sk-estimator {font-family: monospace;background-color: #f0f8ff;border: 1px dotted black;border-radius: 0.25em;box-sizing: border-box;margin-bottom: 0.5em;}#sk-container-id-4 div.sk-estimator:hover {background-color: #d4ebff;}#sk-container-id-4 div.sk-parallel-item::after {content: \"\";width: 100%;border-bottom: 1px solid gray;flex-grow: 1;}#sk-container-id-4 div.sk-label:hover label.sk-toggleable__label {background-color: #d4ebff;}#sk-container-id-4 div.sk-serial::before {content: \"\";position: absolute;border-left: 1px solid gray;box-sizing: border-box;top: 0;bottom: 0;left: 50%;z-index: 0;}#sk-container-id-4 div.sk-serial {display: flex;flex-direction: column;align-items: center;background-color: white;padding-right: 0.2em;padding-left: 0.2em;position: relative;}#sk-container-id-4 div.sk-item {position: relative;z-index: 1;}#sk-container-id-4 div.sk-parallel {display: flex;align-items: stretch;justify-content: center;background-color: white;position: relative;}#sk-container-id-4 div.sk-item::before, #sk-container-id-4 div.sk-parallel-item::before {content: \"\";position: absolute;border-left: 1px solid gray;box-sizing: border-box;top: 0;bottom: 0;left: 50%;z-index: -1;}#sk-container-id-4 div.sk-parallel-item {display: flex;flex-direction: column;z-index: 1;position: relative;background-color: white;}#sk-container-id-4 div.sk-parallel-item:first-child::after {align-self: flex-end;width: 50%;}#sk-container-id-4 div.sk-parallel-item:last-child::after {align-self: flex-start;width: 50%;}#sk-container-id-4 div.sk-parallel-item:only-child::after {width: 0;}#sk-container-id-4 div.sk-dashed-wrapped {border: 1px dashed gray;margin: 0 0.4em 0.5em 0.4em;box-sizing: border-box;padding-bottom: 0.4em;background-color: white;}#sk-container-id-4 div.sk-label label {font-family: monospace;font-weight: bold;display: inline-block;line-height: 1.2em;}#sk-container-id-4 div.sk-label-container {text-align: center;}#sk-container-id-4 div.sk-container {/* jupyter's `normalize.less` sets `[hidden] { display: none; }` but bootstrap.min.css set `[hidden] { display: none !important; }` so we also need the `!important` here to be able to override the default hidden behavior on the sphinx rendered scikit-learn.org. See: https://github.com/scikit-learn/scikit-learn/issues/21755 */display: inline-block !important;position: relative;}#sk-container-id-4 div.sk-text-repr-fallback {display: none;}</style><div id=\"sk-container-id-4\" class=\"sk-top-container\"><div class=\"sk-text-repr-fallback\"><pre>RandomForestClassifier(n_estimators=3000)</pre><b>In a Jupyter environment, please rerun this cell to show the HTML representation or trust the notebook. <br />On GitHub, the HTML representation is unable to render, please try loading this page with nbviewer.org.</b></div><div class=\"sk-container\" hidden><div class=\"sk-item\"><div class=\"sk-estimator sk-toggleable\"><input class=\"sk-toggleable__control sk-hidden--visually\" id=\"sk-estimator-id-6\" type=\"checkbox\" checked><label for=\"sk-estimator-id-6\" class=\"sk-toggleable__label sk-toggleable__label-arrow\">RandomForestClassifier</label><div class=\"sk-toggleable__content\"><pre>RandomForestClassifier(n_estimators=3000)</pre></div></div></div></div></div>"
            ],
            "text/plain": [
              "RandomForestClassifier(n_estimators=3000)"
            ]
          },
          "execution_count": 27,
          "metadata": {},
          "output_type": "execute_result"
        }
      ],
      "source": [
        "X = data[['sex', 'Mt', 'Detmid', 'age', 'neck', 'waist', 'BMI', 'rhtd']]\n",
        "y = data['result']\n",
        "X_trn, X_tst, y_trn, y_tst = train_test_split(X, y, test_size=0.2, random_state=42)\n",
        "#RandomForestClassifier\n",
        "model1 = RandomForestClassifier(n_estimators= 3000)\n",
        "model1.fit(X_trn, y_trn)"
      ]
    },
    {
      "cell_type": "code",
      "execution_count": 28,
      "id": "06cf0f42",
      "metadata": {},
      "outputs": [
        {
          "data": {
            "text/plain": [
              "array([[25,  8],\n",
              "       [ 7, 57]], dtype=int64)"
            ]
          },
          "execution_count": 28,
          "metadata": {},
          "output_type": "execute_result"
        }
      ],
      "source": [
        "y_pred1 = model1.predict(X_tst)\n",
        "matrix1 = confusion_matrix(y_tst,y_pred1)\n",
        "confusion_matrix(y_tst, y_pred1)"
      ]
    },
    {
      "cell_type": "code",
      "execution_count": 29,
      "id": "-3MzmyDlxpz6",
      "metadata": {
        "colab": {
          "base_uri": "https://localhost:8080/",
          "height": 343
        },
        "id": "-3MzmyDlxpz6",
        "outputId": "8529b82b-6166-4e03-a9ea-38e8d5cee250"
      },
      "outputs": [
        {
          "data": {
            "text/plain": [
              "Text(0.5, 257.44, 'Predicted label')"
            ]
          },
          "execution_count": 29,
          "metadata": {},
          "output_type": "execute_result"
        },
        {
          "data": {
            "image/png": "[encoded data removed]",
            "text/plain": [
              "<Figure size 432x288 with 2 Axes>"
            ]
          },
          "metadata": {
            "needs_background": "light"
          },
          "output_type": "display_data"
        }
      ],
      "source": [
        "#混淆矩陣視覺化(Heatmap)\n",
        "%matplotlib inline\n",
        "class_names=[0,1] # name  of classes\n",
        "fig, ax = plt.subplots()\n",
        "tick_marks = np.arange(len(class_names))\n",
        "plt.xticks(tick_marks, class_names)\n",
        "plt.yticks(tick_marks, class_names)\n",
        "# create heatmap\n",
        "sns.heatmap(pd.DataFrame(matrix1), annot=True, cmap=\"YlGnBu\" ,fmt='g')\n",
        "ax.xaxis.set_label_position(\"top\")\n",
        "plt.tight_layout()\n",
        "plt.title('Confusion matrix', y=1.1)\n",
        "plt.ylabel('Actual label')\n",
        "plt.xlabel('Predicted label')"
      ]
    },
    {
      "cell_type": "code",
      "execution_count": 30,
      "id": "8aaab933",
      "metadata": {
        "colab": {
          "base_uri": "https://localhost:8080/"
        },
        "id": "8aaab933",
        "outputId": "a149b9df-1d85-493d-a280-c36f3cf40e14"
      },
      "outputs": [
        {
          "name": "stdout",
          "output_type": "stream",
          "text": [
            "Macro-average: 0.8264758497316635\n",
            "Micro-average: 0.845360824742268\n",
            "              precision    recall  f1-score   support\n",
            "\n",
            "           0       0.78      0.76      0.77        33\n",
            "           1       0.88      0.89      0.88        64\n",
            "\n",
            "    accuracy                           0.85        97\n",
            "   macro avg       0.83      0.82      0.83        97\n",
            "weighted avg       0.84      0.85      0.84        97\n",
            "\n",
            "[[25  8]\n",
            " [ 7 57]]\n"
          ]
        }
      ],
      "source": [
        "print(\"Macro-average: {0}\".format(metrics.f1_score(y_tst, y_pred1, average =\n",
        "'macro' )))\n",
        "print(\"Micro-average: {0}\".format(metrics.f1_score(y_tst, y_pred1, average =\n",
        "'micro')))\n",
        "print(metrics.classification_report(y_tst, y_pred1))\n",
        "print(metrics.confusion_matrix(y_tst, y_pred1))"
      ]
    }
  ],
  "metadata": {
    "colab": {
      "name": "Final project_RandomForest.ipynb",
      "provenance": []
    },
    "interpreter": {
      "hash": "b2943380585d3ab4282a0037c10de2f77c3475033d1c2131b82f758ab2610fbf"
    },
    "kernelspec": {
      "display_name": "Python 3.10.2 64-bit",
      "language": "python",
      "name": "python3"
    },
    "language_info": {
      "codemirror_mode": {
        "name": "ipython",
        "version": 3
      },
      "file_extension": ".py",
      "mimetype": "text/x-python",
      "name": "python",
      "nbconvert_exporter": "python",
      "pygments_lexer": "ipython3",
      "version": "3.10.2"
    }
  },
  "nbformat": 4,
  "nbformat_minor": 5
}
